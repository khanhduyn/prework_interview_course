{
 "cells": [
  {
   "cell_type": "markdown",
   "metadata": {},
   "source": [
    "** Prework - FREE: Advanced Coding Interview Prep **\n",
    "=============================================="
   ]
  },
  {
   "cell_type": "markdown",
   "metadata": {},
   "source": [
    "# Checkpoint 1"
   ]
  },
  {
   "cell_type": "markdown",
   "metadata": {},
   "source": [
    "### Question\n",
    "What is the time complexity of the following code :\n",
    "```c\n",
    "        int j = 0;\n",
    "        for(i = 0; i < n; ++i) {\n",
    "            while(j < n && arr[i] < arr[j]) {\n",
    "                j++;\n",
    "            }\n",
    "        }\n",
    "```\n",
    "```\n",
    "A. O(n^2)\n",
    "B. O(nlogn)\n",
    "C. O(n(logn)^2)\n",
    "D. O(n)\n",
    "E. O(n * sqrt(n))\n",
    "F. O(n^2 logn)\n",
    "G. Can't say. Depends on the value of arr.\n",
    "```"
   ]
  },
  {
   "cell_type": "markdown",
   "metadata": {},
   "source": [
    "### Answer"
   ]
  },
  {
   "cell_type": "markdown",
   "metadata": {},
   "source": [
    "D. O(n)"
   ]
  },
  {
   "cell_type": "markdown",
   "metadata": {},
   "source": [
    "# Checkpoint 2"
   ]
  },
  {
   "cell_type": "markdown",
   "metadata": {},
   "source": [
    "## Question 1\n",
    "Print concentric rectangular pattern in a 2d matrix.\n",
    "\n",
    "Let us show you some examples to clarify what we mean.\n",
    "\n",
    "\n",
    "Example 1:\n",
    "\n",
    "\n",
    "Input: A = 4.\n",
    "Output:\n",
    "\n",
    "```\n",
    "4 4 4 4 4 4 4 \n",
    "4 3 3 3 3 3 4 \n",
    "4 3 2 2 2 3 4 \n",
    "4 3 2 1 2 3 4 \n",
    "4 3 2 2 2 3 4 \n",
    "4 3 3 3 3 3 4 \n",
    "4 4 4 4 4 4 4 \n",
    "```\n",
    "Example 2:\n",
    "\n",
    "\n",
    "Input: A = 3.\n",
    "Output:\n",
    "\n",
    "```\n",
    "3 3 3 3 3 \n",
    "3 2 2 2 3 \n",
    "3 2 1 2 3 \n",
    "3 2 2 2 3 \n",
    "3 3 3 3 3 \n",
    "```\n",
    "The outermost rectangle is formed by A, then the next outermost is formed by A-1 and so on.\n",
    "\n",
    "You will be given A as an argument to the function you need to implement, and you need to return a 2D array."
   ]
  },
  {
   "cell_type": "markdown",
   "metadata": {},
   "source": [
    "## Answer 1"
   ]
  },
  {
   "cell_type": "code",
   "execution_count": 35,
   "metadata": {},
   "outputs": [
    {
     "data": {
      "text/plain": [
       "array([[6., 6., 6., 6., 6., 6., 6., 6., 6., 6., 6.],\n",
       "       [6., 5., 5., 5., 5., 5., 5., 5., 5., 5., 6.],\n",
       "       [6., 5., 4., 4., 4., 4., 4., 4., 4., 5., 6.],\n",
       "       [6., 5., 4., 3., 3., 3., 3., 3., 4., 5., 6.],\n",
       "       [6., 5., 4., 3., 2., 2., 2., 3., 4., 5., 6.],\n",
       "       [6., 5., 4., 3., 2., 1., 2., 3., 4., 5., 6.],\n",
       "       [6., 5., 4., 3., 2., 2., 2., 3., 4., 5., 6.],\n",
       "       [6., 5., 4., 3., 3., 3., 3., 3., 4., 5., 6.],\n",
       "       [6., 5., 4., 4., 4., 4., 4., 4., 4., 5., 6.],\n",
       "       [6., 5., 5., 5., 5., 5., 5., 5., 5., 5., 6.],\n",
       "       [6., 6., 6., 6., 6., 6., 6., 6., 6., 6., 6.]])"
      ]
     },
     "execution_count": 35,
     "metadata": {},
     "output_type": "execute_result"
    }
   ],
   "source": [
    "import numpy as np\n",
    "class Solution_1:\n",
    "    def concentric_rect(n=1):\n",
    "        rect_size = n*2 - 1\n",
    "        rect = np.zeros((rect_size, rect_size))\n",
    "        for i in range(0, n):\n",
    "            pos_val = n - i\n",
    "            for j in range (i, rect_size - i):\n",
    "                rect[i,j] = pos_val\n",
    "                rect[j,i] = pos_val\n",
    "                rect[rect_size - i - 1, j] = pos_val\n",
    "                rect[j, rect_size - i - 1] = pos_val\n",
    "        return rect\n",
    "    \n",
    "Solution_1.concentric_rect(6)"
   ]
  },
  {
   "cell_type": "markdown",
   "metadata": {},
   "source": [
    "# Checkpoint 3"
   ]
  },
  {
   "cell_type": "markdown",
   "metadata": {},
   "source": [
    "## Question 1\n",
    "Checkpoint 3\n",
    "Checkpoint Problem 1: Kth Smallest Element in the Array\n",
    "\n",
    "\n",
    "Find the kth smallest element in an unsorted array of non-negative integers.\n",
    "\n",
    "Definition of kth smallest element\n",
    "\n",
    "\n",
    "kth smallest element is the minimum possible n such that there are at least k elements in the array <= n. \n",
    "In other words, if the array A was sorted, then A [k - 1] ( k is 1 based, while the arrays are 0 based).\n",
    "\n",
    "NOTE: You are not allowed to modify the array ( The array is read only ). Try to do it using constant extra space.\n",
    "\n",
    "\n",
    "Example:\n",
    "\n",
    "```\n",
    "A : [2 1 4 3 2]\n",
    "k : 3\n",
    "```\n",
    "answer : 2\n",
    "\n",
    "NOTE: You only need to implement the given function. Do not read input, instead use arguments to the function. Do not print the output, instead, return values as specified. Still have a doubt? Check out Sample Code for more details.\n"
   ]
  },
  {
   "cell_type": "markdown",
   "metadata": {},
   "source": [
    "## Answer 1"
   ]
  },
  {
   "cell_type": "code",
   "execution_count": 110,
   "metadata": {},
   "outputs": [
    {
     "data": {
      "text/plain": [
       "2"
      ]
     },
     "execution_count": 110,
     "metadata": {},
     "output_type": "execute_result"
    }
   ],
   "source": [
    "class Solution_3_1:\n",
    "    def kth_smallest(A=[], k=1):\n",
    "        kth = -1\n",
    "        pos = -1\n",
    "        \n",
    "        pre_th = -1\n",
    "        pre_pos = -1\n",
    "        \n",
    "        updated = False\n",
    "        Init = False\n",
    "        for i in range(0, k):\n",
    "            updated = False\n",
    "            Init = False\n",
    "            for idx, val in enumerate(A):\n",
    "                if pre_th < val:\n",
    "                    if not Init:\n",
    "                        kth = val\n",
    "                        pos = idx\n",
    "                        Init = True\n",
    "                    if kth > val:\n",
    "                        kth = val\n",
    "                        pos = idx\n",
    "                elif pre_th == val:\n",
    "                    if updated:\n",
    "                        continue\n",
    "                    if pre_pos >= idx:\n",
    "                        continue\n",
    "                    kth = val\n",
    "                    pos = idx\n",
    "                    updated = True\n",
    "            pre_th  = kth\n",
    "            pre_pos = pos\n",
    "        return kth\n",
    "Solution_3_1.kth_smallest([2, 1, 4, 3, 2], 3)"
   ]
  },
  {
   "cell_type": "markdown",
   "metadata": {},
   "source": [
    "## Question 2\n",
    "\n",
    "Checkpoint Problem 2: NUMRANGE\n",
    "\n",
    "\n",
    "Given an array of non negative integers A and a range (B,C), find the number of continuous subsequences in the array which have sum s in the range [B,C] or B <= S <= C\n",
    "\n",
    "\n",
    "Continuous subsequence is defined as all the numbers A[i], A[i + 1], .... A[j] where 0 <= i <= j < size(A)\n",
    "\n",
    "\n",
    "Example:\n",
    "```\n",
    "A : [10, 5, 1, 0, 2]\n",
    "(B, C) : (6, 8)\n",
    "```\n",
    "ans = 3\n",
    "\n",
    "as [5, 1], [5, 1, 0], [5, 1, 0, 2] are the only 3 continuous subsequence with their sum in the range [6, 8]\n",
    "\n",
    "\n",
    "NOTE : The answer is guranteed to fit in a 32 bit signed integer.\n",
    "\n",
    "\n",
    "NOTE: You only need to implement the given function. Do not read input, instead use arguments to the function. Do not print the output, instead, return values as specified. Still have a doubt? Check out Sample Code for more details."
   ]
  },
  {
   "cell_type": "markdown",
   "metadata": {},
   "source": [
    "## Answer 2"
   ]
  },
  {
   "cell_type": "code",
   "execution_count": 136,
   "metadata": {},
   "outputs": [
    {
     "data": {
      "text/plain": [
       "3"
      ]
     },
     "execution_count": 136,
     "metadata": {},
     "output_type": "execute_result"
    }
   ],
   "source": [
    "import numpy as np\n",
    "class Solution_3_2:\n",
    "    def count_subset(A=[], BC=(0, 0)):\n",
    "        counter = 0\n",
    "        for i in range(0, len(A)):\n",
    "            for j in range(i, len(A)):\n",
    "                if i == j:\n",
    "                    continue\n",
    "                subset_sum = np.sum(A[i:j+1])\n",
    "                if subset_sum < BC[0] or subset_sum > BC[1]:\n",
    "                    break\n",
    "                counter += 1;\n",
    "        return counter\n",
    "Solution_3_2.count_subset([10, 5, 1, 0, 2], (6, 8))"
   ]
  },
  {
   "cell_type": "markdown",
   "metadata": {},
   "source": [
    "# Checkpoint 4"
   ]
  },
  {
   "cell_type": "markdown",
   "metadata": {},
   "source": [
    "## Question 1\n",
    "Checkpoint Problem 1: SUBTRACT\n",
    "\n",
    "\n",
    "Given a singly linked list, modify the value of first half nodes such that :\n",
    "\n",
    "1st node’s new value = the last node’s value - first node’s current value\n",
    "2nd node’s new value = the second last node’s value - 2nd node’s current value,\n",
    "\n",
    "and so on …\n",
    "\n",
    "\n",
    "NOTE:\n",
    "\n",
    ">If the length L of linked list is odd, then the first half implies at first floor(L/2) nodes. So, if L = 5, the first half refers to first 2 nodes.\n",
    "\n",
    ">If the length L of linked list is even, then the first half implies at first L/2 nodes. So, if L = 4, the first half refers to first 2 nodes.\n",
    "\n",
    "Example :\n",
    "\n",
    "\n",
    ">Given linked list 1 -> 2 -> 3 -> 4 -> 5,\n",
    "\n",
    ">You should return 4 -> 2 -> 3 -> 4 -> 5 as\n",
    "\n",
    "\n",
    "for first node, 5 - 1 = 4\n",
    "for second node, 4 - 2 = 2\n",
    "\n",
    "Try to solve the problem using constant extra space.\n",
    "\n",
    "\n",
    "NOTE: You only need to implement the given function. Do not read input, instead use arguments to the function. Do not print the output, instead, return values as specified. Still have a doubt? Check out Sample Code for more details."
   ]
  },
  {
   "cell_type": "markdown",
   "metadata": {},
   "source": [
    "## Answer 1"
   ]
  },
  {
   "cell_type": "code",
   "execution_count": 164,
   "metadata": {},
   "outputs": [
    {
     "name": "stdout",
     "output_type": "stream",
     "text": [
      "result\n",
      "4\n",
      "2\n",
      "3\n",
      "4\n",
      "5\n"
     ]
    }
   ],
   "source": [
    "# Linked List\n",
    "class Node:\n",
    "    def __init__(self, data=None):\n",
    "        self.data = data\n",
    "        self.next = None\n",
    "    def set_next(self, node=None):\n",
    "        self.next = node\n",
    "    def set_data(self, data):\n",
    "        self.data = data\n",
    "    def get_next(self):\n",
    "        return self.next\n",
    "    def get_data(self):\n",
    "        return self.data\n",
    "    \n",
    "class UnorderedList:\n",
    "    def __init__(self):\n",
    "        self.head = None\n",
    "    \n",
    "    def get_head(self):\n",
    "        return self.head\n",
    "        \n",
    "    def is_empty(self):\n",
    "        if self.head is None:\n",
    "            return True\n",
    "        return False\n",
    "    \n",
    "    def add(self, data):\n",
    "        node = Node(data)\n",
    "        node.set_next(self.head)\n",
    "        self.head = node\n",
    "        \n",
    "    def size(self):\n",
    "        current_node = self.head\n",
    "        count = 0\n",
    "        while current_node is not None:\n",
    "            count += 1\n",
    "            current_node = current_node.get_next()\n",
    "        return count\n",
    "    \n",
    "    def get_item(self, idx):\n",
    "        count = 0\n",
    "        current_node = self.head\n",
    "        while (current_node is not None) & (count != idx):\n",
    "            count += 1\n",
    "            current_node = current_node.get_next()\n",
    "        return current_node\n",
    "    \n",
    "test_list = UnorderedList()\n",
    "test_list.add(5)\n",
    "test_list.add(4)\n",
    "test_list.add(3)\n",
    "test_list.add(2)\n",
    "test_list.add(1)\n",
    "    \n",
    "class Solution_4_1:\n",
    "    def solve(in_list):\n",
    "        cur_node = in_list.get_head()\n",
    "        size = in_list.size()\n",
    "        \n",
    "        first_half_size = int(size/2)\n",
    "#         print('first_half_size', first_half_size)\n",
    "        for i in range(0, first_half_size):\n",
    "            node_1st = in_list.get_item(i)\n",
    "            node_2nd = in_list.get_item(size - 1 - i)\n",
    "            node_1st_data = in_list.get_item(i).get_data()\n",
    "            node_2nd_data = in_list.get_item(size - 1 - i).get_data()\n",
    "#             print(node_1st_data, node_2nd_data)\n",
    "            node_1st_data = node_2nd_data - node_1st_data\n",
    "            node_1st.set_data(node_1st_data)\n",
    "#             node_1st.get_data() = node_2nd.get_data() - node_1st.get_data()\n",
    "            \n",
    "#         print(in_list.get_item(4).get_data())\n",
    "        return in_list\n",
    "\n",
    "Solution_4_1.solve(test_list)\n",
    "print('result')\n",
    "for i in range(0, test_list.size()):\n",
    "    print(test_list.get_item(i).get_data())\n"
   ]
  },
  {
   "cell_type": "markdown",
   "metadata": {},
   "source": [
    "## Question 2\n",
    "Checkpoint Problem 2: NEXTGREATER\n",
    "\n",
    "\n",
    "Given an array, find the next greater element G[i] for every element A[i] in the array. The Next greater Element for an element A[i] is the first greater element on the right side of A[i] in array. More formally,\n",
    "\n",
    "```\n",
    "G[i] for an element A[i] = an element A[j] such that \n",
    "    j is minimum possible AND \n",
    "    j > i AND\n",
    "    A[j] > A[i]\n",
    "```\n",
    "Elements for which no greater element exist, consider next greater element as -1.\n",
    "\n",
    "\n",
    "Example:\n",
    "\n",
    "\n",
    ">Input : A : [4, 5, 2, 10]\n",
    "\n",
    "\n",
    ">Output : [5, 10, 10, -1]\n",
    "\n",
    "\n",
    "Example 2:\n",
    "\n",
    "\n",
    ">Input : A : [3, 2, 1]\n",
    "\n",
    "\n",
    ">Output: [-1, -1, -1]\n",
    "\n",
    "\n",
    "NOTE: You only need to implement the given function. Do not read input, instead use arguments to the function. Do not print the output, instead, return values as specified. Still have a doubt? Check out Sample Code for more details."
   ]
  },
  {
   "cell_type": "markdown",
   "metadata": {},
   "source": [
    "## Answer 2"
   ]
  },
  {
   "cell_type": "code",
   "execution_count": 244,
   "metadata": {},
   "outputs": [
    {
     "data": {
      "text/plain": [
       "[5, 10, 10, -1]"
      ]
     },
     "execution_count": 244,
     "metadata": {},
     "output_type": "execute_result"
    }
   ],
   "source": [
    "class Solution_4_2:\n",
    "    def next_greater(A=[]):\n",
    "        result = []\n",
    "        for i, item in enumerate(A):\n",
    "            for j in range(i, len(A)):\n",
    "                if i == j:\n",
    "                    # Handle the last element\n",
    "                    if i == len(A) - 1:\n",
    "                        result.append(-1)\n",
    "                        break\n",
    "                if A[j] > A[i]:\n",
    "                    result.append(A[j])\n",
    "                    break\n",
    "                elif j == len(A) - 1:\n",
    "                    result.append(-1)\n",
    "        return result\n",
    "\n",
    "Solution_4_2.next_greater([4, 5, 2, 10])\n",
    "# Solution_4_2.next_greater([3, 2, 1])"
   ]
  },
  {
   "cell_type": "markdown",
   "metadata": {},
   "source": [
    "# Checkpoint 5"
   ]
  },
  {
   "cell_type": "markdown",
   "metadata": {},
   "source": [
    "## Question 1\n",
    "Checkpoint 5\n",
    "Checkpoint Problem 1: All Unique Permutations\n",
    "\n",
    "\n",
    "Given a collection of numbers that might contain duplicates, return all possible unique permutations.\n",
    "\n",
    "\n",
    "Example :\n",
    "\n",
    "```\n",
    "[1,1,2] have the following unique permutations:\n",
    "\n",
    "\n",
    "[1,1,2]\n",
    "[1,2,1]\n",
    "[2,1,1]\n",
    "```\n",
    "NOTE : No 2 entries in the permutation sequence should be the same.\n",
    "\n",
    "\n",
    "Warning : DO NOT USE LIBRARY FUNCTION FOR GENERATING PERMUTATIONS.\n",
    "\n",
    "\n",
    "Example: next_permutations in C++ / itertools.permutations in python. If you do, we will disqualify your submission retroactively and give you penalty points.\n",
    "\n",
    "\n",
    "NOTE: You only need to implement the given function. Do not read input, instead use arguments to the function. Do not print the output, instead, return values as specified. Still have a doubt? Check out Sample Code for more details."
   ]
  },
  {
   "cell_type": "markdown",
   "metadata": {},
   "source": [
    "## Answer 1"
   ]
  },
  {
   "cell_type": "code",
   "execution_count": 242,
   "metadata": {},
   "outputs": [
    {
     "data": {
      "text/plain": [
       "[[1, 1, 2], [1, 2, 1], [2, 1, 1]]"
      ]
     },
     "execution_count": 242,
     "metadata": {},
     "output_type": "execute_result"
    }
   ],
   "source": [
    "class Solution_5_1(object):\n",
    "    def permutations(A):\n",
    "        if len(A) == 1:\n",
    "            return [A]\n",
    "        else:\n",
    "            first_one = A[0]\n",
    "            rest = A[1:]\n",
    "            per_rest = Solution_5_1.permutations(rest)\n",
    "            permus = []\n",
    "            for each in per_rest:\n",
    "                permu = []\n",
    "                for i in range(0, len(each) + 1):\n",
    "                    tmp = each.copy()\n",
    "                    tmp.insert(i, first_one)\n",
    "                    if tmp not in permu:\n",
    "                        permu.append(tmp)\n",
    "                for item in permu:\n",
    "                    if item not in permus:\n",
    "                        permus.append(item)\n",
    "            return permus\n",
    "Solution_5_1.permutations([1, 1, 2])"
   ]
  },
  {
   "cell_type": "markdown",
   "metadata": {},
   "source": [
    "## Question 2\n",
    "Checkpoint Problem 2: Longest Consecutive Sequence\n",
    "\n",
    "\n",
    "Given an unsorted array of integers, find the length of the longest consecutive elements sequence.\n",
    "\n",
    "\n",
    "Example:\n",
    "\n",
    "```\n",
    "Given [100, 4, 200, 1, 3, 2], The longest consecutive elements sequence is [1, 2, 3, 4]. Return its length: 4\n",
    "```\n",
    "\n",
    "Your algorithm should run in O(n) complexity.\n",
    "\n",
    "\n",
    "NOTE: You only need to implement the given function. Do not read input, instead use arguments to the function. Do not print the output, instead, return values as specified. Still have a doubt? Check out Sample Code for more details."
   ]
  },
  {
   "cell_type": "markdown",
   "metadata": {},
   "source": [
    "## Answer 2"
   ]
  },
  {
   "cell_type": "code",
   "execution_count": 256,
   "metadata": {},
   "outputs": [
    {
     "data": {
      "text/plain": [
       "4"
      ]
     },
     "execution_count": 256,
     "metadata": {},
     "output_type": "execute_result"
    }
   ],
   "source": [
    "class Solution_5_2:\n",
    "    def longest_consecutive_sequence(self, A):\n",
    "        max_sequence = 0\n",
    "        save_result = {}\n",
    "        for item in A:\n",
    "            next_item = item\n",
    "            seq_len = 0\n",
    "            while next_item in A:\n",
    "                next_item += 1\n",
    "                seq_len += 1\n",
    "                if save_result.get(next_item):\n",
    "                    seq_len += save_result[next_item]\n",
    "                    break;\n",
    "            max_sequence = seq_len if seq_len > max_sequence else max_sequence\n",
    "            save_result[item] = seq_len\n",
    "        return max_sequence\n",
    "Solution_5_2().longest_consecutive_sequence([100, 4, 200, 1, 3, 2])"
   ]
  }
 ],
 "metadata": {
  "kernelspec": {
   "display_name": "Python 3",
   "language": "python",
   "name": "python3"
  },
  "language_info": {
   "codemirror_mode": {
    "name": "ipython",
    "version": 3
   },
   "file_extension": ".py",
   "mimetype": "text/x-python",
   "name": "python",
   "nbconvert_exporter": "python",
   "pygments_lexer": "ipython3",
   "version": "3.6.5"
  }
 },
 "nbformat": 4,
 "nbformat_minor": 2
}
